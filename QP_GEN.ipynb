{
  "nbformat": 4,
  "nbformat_minor": 0,
  "metadata": {
    "colab": {
      "provenance": []
    },
    "kernelspec": {
      "name": "python3",
      "display_name": "Python 3"
    },
    "language_info": {
      "name": "python"
    }
  },
  "cells": [
    {
      "cell_type": "code",
      "execution_count": null,
      "metadata": {
        "colab": {
          "base_uri": "https://localhost:8080/"
        },
        "id": "klDrUDWzfhaI",
        "outputId": "45e4f1f8-a674-4a6f-c9cc-738571e12ce4"
      },
      "outputs": [
        {
          "output_type": "stream",
          "name": "stdout",
          "text": [
            "Available Chapter Numbers:\n",
            " - Chapter 1\n",
            " - Chapter 2\n",
            " - Chapter 3\n",
            " - Chapter 4\n",
            " - Chapter 5\n",
            " - Chapter 6\n",
            "\n",
            "Enter chapter number(s) separated by commas (e.g., 1,3,5): 1,2,3\n",
            "\n",
            "    DEVAMATHA CMI INTERNATIONAL SCHOOL\n",
            "    CLASS: X   SECTION: ___________   NAME: _______________________\n",
            "\n",
            "    ========================================\n",
            "                 QUESTION PAPER\n",
            "    Chapter(s): 1, 2, 3\n",
            "    ========================================\n",
            "\n",
            "    SECTION A – EASY QUESTIONS\n",
            "    \n",
            "1. How do you swap two variables in Python without using a third variable?\n",
            "2. What is metaprogramming in Python?\n",
            "3. What are the key features of Python?\n",
            "4. What are generators in Python, and how do they work?\n",
            "5. How do you print \"Hello, World!\" in Python?\n",
            "\n",
            "SECTION B – MEDIUM QUESTIONS\n",
            "\n",
            "6. How do you merge two dictionaries in Python?\n",
            "7. How do you implement a queue in Python?\n",
            "8. How do you check if a string is a palindrome in Python?\n",
            "9. What is the purpose of the enumerate() function?\n",
            "10. What is a Python module? How do you import one?\n",
            "\n",
            "SECTION C – HARD QUESTIONS\n",
            "\n",
            "11. How does exception handling work in Python?\n",
            "12. What is slicing in Python?\n",
            "13. How do you check if a number is even or odd in Python?\n"
          ]
        }
      ],
      "source": [
        "import pandas as pd\n",
        "\n",
        "# Load the CSV file\n",
        "file_path = \"question_bank.csv\"\n",
        "df = pd.read_csv(file_path, header=None)\n",
        "\n",
        "# Rename columns\n",
        "df.columns = [\"Question ID\", \"Question\", \"Difficulty\", \"Chapter Number\"]\n",
        "\n",
        "# Show available chapter numbers\n",
        "chapter_numbers = sorted(df['Chapter Number'].unique())\n",
        "print(\"Available Chapter Numbers:\")\n",
        "for ch in chapter_numbers:\n",
        "    print(f\" - Chapter {ch}\")\n",
        "\n",
        "# Ask user to input one or more chapter numbers\n",
        "input_chapters = input(\"\\nEnter chapter number(s) separated by commas (e.g., 1,3,5): \")\n",
        "selected_chapters = [ch.strip() for ch in input_chapters.split(',')]\n",
        "\n",
        "# Filter questions from selected chapters\n",
        "chapter_df = df[df[\"Chapter Number\"].astype(str).isin(selected_chapters)]\n",
        "\n",
        "if chapter_df.empty:\n",
        "    print(\"\\n❌ No questions found for the selected chapters.\")\n",
        "else:\n",
        "    difficulty_map = {\"Easy\": 5, \"Medium\": 5, \"Hard\": 3}\n",
        "    selected_questions = {\"Easy\": [], \"Medium\": [], \"Hard\": []}\n",
        "\n",
        "    # Randomly sample questions for each difficulty level\n",
        "    for difficulty, count in difficulty_map.items():\n",
        "        filtered = chapter_df[chapter_df[\"Difficulty\"].str.strip().str.lower() == difficulty.lower()]\n",
        "        selected = filtered.sample(n=min(count, len(filtered)))\n",
        "        selected_questions[difficulty] = selected.to_dict(orient=\"records\")\n",
        "\n",
        "    # Generate question paper\n",
        "    print(f\"\"\"\n",
        "    DEVAMATHA CMI INTERNATIONAL SCHOOL\n",
        "    CLASS: X   SECTION: ___________   NAME: _______________________\n",
        "\n",
        "    ========================================\n",
        "                 QUESTION PAPER\n",
        "    Chapter(s): {', '.join(selected_chapters)}\n",
        "    ========================================\n",
        "\n",
        "    SECTION A – EASY QUESTIONS\n",
        "    \"\"\")\n",
        "    for i, q in enumerate(selected_questions[\"Easy\"], start=1):\n",
        "        print(f\"{i}. {q['Question']}\")\n",
        "\n",
        "    print(\"\\nSECTION B – MEDIUM QUESTIONS\\n\")\n",
        "    for i, q in enumerate(selected_questions[\"Medium\"], start=6):\n",
        "        print(f\"{i}. {q['Question']}\")\n",
        "\n",
        "    print(\"\\nSECTION C – HARD QUESTIONS\\n\")\n",
        "    for i, q in enumerate(selected_questions[\"Hard\"], start=11):\n",
        "        print(f\"{i}. {q['Question']}\")\n"
      ]
    },
    {
      "cell_type": "code",
      "source": [],
      "metadata": {
        "id": "su7GNXpYgc-A"
      },
      "execution_count": null,
      "outputs": []
    }
  ]
}